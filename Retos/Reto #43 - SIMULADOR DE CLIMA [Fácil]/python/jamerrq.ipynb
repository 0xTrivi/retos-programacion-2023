{
 "cells": [
  {
   "cell_type": "markdown",
   "metadata": {},
   "source": [
    "# Simulador de clima\n",
    "\n",
    "## Parámetros iniciales (a definir o modificar por el usuario)\n",
    "\n",
    "- Temperatura inicial (en grados Celsius)\n",
    "- Probabilidad de lluvia (en porcentaje)"
   ]
  },
  {
   "cell_type": "code",
   "execution_count": 116,
   "metadata": {},
   "outputs": [],
   "source": [
    "temperatura_inicial = 20\n",
    "probabilidad_lluvia = 0.1 # 0 <= probabilidad_lluvia <= 1\n"
   ]
  },
  {
   "cell_type": "markdown",
   "metadata": {},
   "source": [
    "## Reglas\n",
    "\n",
    "En cada día que pasa tenemos que\n",
    "\n",
    "- 10% de probabilidad de que la temperatura aumente o disminuya en 2 grados\n",
    "- Si la temperatura supera los 25 grados, la probabilidad de lluvia aumenta en\n",
    "  20%\n",
    "- Si la temperatura es menor a 5 grados, la probabilidad de lluvia disminuye en\n",
    "  20%\n",
    "- Si llueve, la temperatura disminuye en 1 grado"
   ]
  },
  {
   "cell_type": "markdown",
   "metadata": {},
   "source": [
    "## Función\n",
    "\n",
    "La función recibe:\n",
    "\n",
    "- Número de días a simular\n",
    "\n",
    "Y devuelve (muestra):\n",
    "\n",
    "- Temperatura de cada día\n",
    "- Si llovió o no\n",
    "- Probabilidad de lluvia de cada día\n",
    "- Número de días que llovió"
   ]
  },
  {
   "cell_type": "markdown",
   "metadata": {},
   "source": [
    "### Algunas librerías útiles"
   ]
  },
  {
   "cell_type": "code",
   "execution_count": 117,
   "metadata": {},
   "outputs": [],
   "source": [
    "import matplotlib.pyplot as plt\n",
    "import random as rnd\n",
    "from scipy import interpolate\n",
    "import numpy as np\n"
   ]
  },
  {
   "cell_type": "code",
   "execution_count": 118,
   "metadata": {},
   "outputs": [],
   "source": [
    "def suavizador(x, y, kind='linear'):\n",
    "  f = interpolate.interp1d(x, y, kind=kind)\n",
    "  xnew = np.linspace(min(x), max(x), 100)\n",
    "  ynew = f(xnew)\n",
    "  return xnew, ynew\n"
   ]
  },
  {
   "cell_type": "markdown",
   "metadata": {},
   "source": [
    "### Función principal (simulación)"
   ]
  },
  {
   "cell_type": "code",
   "execution_count": 119,
   "metadata": {},
   "outputs": [],
   "source": [
    "def simulador(numero_dias=30, verbose=False, min_prob=0):\n",
    "\n",
    "  temperatura_actual = temperatura_inicial\n",
    "  temperaturas = [temperatura_actual]\n",
    "  dias = [0]\n",
    "  lluvias = [0] * numero_dias\n",
    "  probabilidad_actual = probabilidad_lluvia\n",
    "  probabilidades = [probabilidad_actual]\n",
    "\n",
    "  for dia in range(1, numero_dias):\n",
    "    random = rnd.random()\n",
    "    # 10% de probabilidad de que la temperatura aumente\n",
    "    # o disminuya en 2 grados\n",
    "    if random < 0.1:\n",
    "      delta = rnd.choice([-2, 2])\n",
    "      temperatura_actual += delta\n",
    "      if verbose:\n",
    "        print(f'El día {dia} la temperatura cambió en {delta} grados')\n",
    "\n",
    "    # Lluvia\n",
    "    random_lluvia = rnd.random()\n",
    "    if random_lluvia < probabilidad_actual:\n",
    "      temperatura_actual -= 1\n",
    "      lluvias[dia] = 1\n",
    "      if verbose:\n",
    "        print(f'El día {dia} llovió')\n",
    "\n",
    "    # Si temperatura actual > 25\n",
    "    if temperatura_actual > 25:\n",
    "      probabilidad_actual = min(1, probabilidad_actual + 0.2)\n",
    "      if verbose:\n",
    "        print(f'El día {dia} la probabilidad de lluvia aumentó a {probabilidad_actual}')\n",
    "\n",
    "    # Si temperatura actual < 5\n",
    "    if temperatura_actual < 5:\n",
    "      probabilidad_actual = max(0, probabilidad_actual - 0.2)\n",
    "      if verbose:\n",
    "        print(f'El día {dia} la probabilidad de lluvia disminuyó a {probabilidad_actual}')\n",
    "\n",
    "    temperaturas.append(temperatura_actual)\n",
    "    dias.append(dia)\n",
    "    probabilidades.append(probabilidad_actual)\n",
    "\n",
    "  return dias, temperaturas, lluvias, probabilidades\n"
   ]
  },
  {
   "cell_type": "markdown",
   "metadata": {},
   "source": [
    "### Resultados"
   ]
  },
  {
   "cell_type": "code",
   "execution_count": 120,
   "metadata": {},
   "outputs": [
    {
     "name": "stdout",
     "output_type": "stream",
     "text": [
      "El día 5 la temperatura cambió en 2 grados\n",
      "El día 9 llovió\n",
      "El día 14 llovió\n",
      "El día 20 llovió\n"
     ]
    },
    {
     "data": {
      "image/png": "[encoded data removed]",
      "text/plain": [
       "<Figure size 640x480 with 1 Axes>"
      ]
     },
     "metadata": {},
     "output_type": "display_data"
    }
   ],
   "source": [
    "sns.set_theme(style=\"darkgrid\")\n",
    "\n",
    "dias, temperaturas, lluvias, probabilidades = simulador(verbose=True)\n",
    "\n",
    "xnew, ynew = suavizador(dias, temperaturas, kind='cubic')\n",
    "data = {'Día': xnew, 'Temperatura': ynew}\n",
    "df = pd.DataFrame(data)\n",
    "sns.lineplot(data=df, x='Día', y='Temperatura', color='red')\n",
    "\n",
    "\n",
    "# data = {'Día': dias, 'Temperatura': temperaturas, 'Lluvia': lluvias, 'Probabilidad': probabilidades}\n",
    "# df = pd.DataFrame(data)\n",
    "# sns.lineplot(data=df, x='Día', y='Temperatura', color='red')\n",
    "\n",
    "# Marcar los días de lluvia\n",
    "for dia, lluvia in enumerate(lluvias):\n",
    "  if lluvia:\n",
    "    plt.plot(dia, temperaturas[dia], 'bo')\n"
   ]
  },
  {
   "cell_type": "markdown",
   "metadata": {},
   "source": [
    "### Referencias\n",
    "\n",
    "- [Seaborn Lineplot](https://seaborn.pydata.org/generated/seaborn.lineplot.html)\n",
    "\n",
    "- [Scipy\n",
    "  Interpolate](https://docs.scipy.org/doc/scipy/reference/generated/scipy.interpolate.interp1d.html)"
   ]
  }
 ],
 "metadata": {
  "kernelspec": {
   "display_name": "base",
   "language": "python",
   "name": "python3"
  },
  "language_info": {
   "codemirror_mode": {
    "name": "ipython",
    "version": 3
   },
   "file_extension": ".py",
   "mimetype": "text/x-python",
   "name": "python",
   "nbconvert_exporter": "python",
   "pygments_lexer": "ipython3",
   "version": "3.9.13"
  }
 },
 "nbformat": 4,
 "nbformat_minor": 2
}
